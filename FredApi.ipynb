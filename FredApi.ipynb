{
 "cells": [
  {
   "cell_type": "code",
   "execution_count": 1,
   "id": "0423b1e7-d874-410f-a722-1371448e77a1",
   "metadata": {},
   "outputs": [
    {
     "name": "stdout",
     "output_type": "stream",
     "text": [
      "Collecting fredapi\n",
      "  Downloading fredapi-0.5.0-py3-none-any.whl (11 kB)\n",
      "Requirement already satisfied: pandas in ./opt/anaconda3/lib/python3.9/site-packages (from fredapi) (1.4.4)\n",
      "Requirement already satisfied: python-dateutil>=2.8.1 in ./opt/anaconda3/lib/python3.9/site-packages (from pandas->fredapi) (2.8.2)\n",
      "Requirement already satisfied: pytz>=2020.1 in ./opt/anaconda3/lib/python3.9/site-packages (from pandas->fredapi) (2022.1)\n",
      "Requirement already satisfied: numpy>=1.18.5 in ./opt/anaconda3/lib/python3.9/site-packages (from pandas->fredapi) (1.21.5)\n",
      "Requirement already satisfied: six>=1.5 in ./opt/anaconda3/lib/python3.9/site-packages (from python-dateutil>=2.8.1->pandas->fredapi) (1.16.0)\n",
      "Installing collected packages: fredapi\n",
      "Successfully installed fredapi-0.5.0\n"
     ]
    }
   ],
   "source": [
    "!pip install fredapi"
   ]
  },
  {
   "cell_type": "code",
   "execution_count": 6,
   "id": "5f7f08bf-fe75-4bc4-82e5-17b270f8033f",
   "metadata": {},
   "outputs": [],
   "source": [
    "from fredapi import Fred\n",
    "fred = Fred(api_key='insert api key ')\n",
    "data = fred.get_series('SP500')"
   ]
  },
  {
   "cell_type": "markdown",
   "id": "f6bbc588-e715-4d71-a7b5-f134e0743643",
   "metadata": {},
   "source": [
    "- The main important thing here is to get an api key through fred, you must open an account to be able to do this, after doing this, he gives you an api, use this api here, it will be your own value. In this way, you can add the tables with the headings that you want to analyze."
   ]
  },
  {
   "cell_type": "code",
   "execution_count": 15,
   "id": "af1c5600-7d38-46dd-9387-0969cf34de17",
   "metadata": {},
   "outputs": [],
   "source": [
    "import pandas as pd\n",
    "import numpy as np"
   ]
  },
  {
   "cell_type": "code",
   "execution_count": 7,
   "id": "45c24e3d-45ba-4051-a6f1-0cfb2b532925",
   "metadata": {},
   "outputs": [
    {
     "data": {
      "text/plain": [
       "2013-03-15    1560.70\n",
       "2013-03-18    1552.10\n",
       "2013-03-19    1548.34\n",
       "2013-03-20    1558.71\n",
       "2013-03-21    1545.80\n",
       "               ...   \n",
       "2023-03-08    3992.01\n",
       "2023-03-09    3918.32\n",
       "2023-03-10    3861.59\n",
       "2023-03-13    3855.76\n",
       "2023-03-14    3919.29\n",
       "Length: 2608, dtype: float64"
      ]
     },
     "execution_count": 7,
     "metadata": {},
     "output_type": "execute_result"
    }
   ],
   "source": [
    "data"
   ]
  },
  {
   "cell_type": "code",
   "execution_count": 9,
   "id": "b87fa843-8427-48b3-b2bf-400fdfb35290",
   "metadata": {},
   "outputs": [],
   "source": [
    "data2 = fred.get_series('GDP')"
   ]
  },
  {
   "cell_type": "code",
   "execution_count": 13,
   "id": "38601997-27b8-4a3c-931a-7fe5fe118871",
   "metadata": {},
   "outputs": [
    {
     "data": {
      "text/plain": [
       "1946-01-01        NaN\n",
       "1946-04-01        NaN\n",
       "1946-07-01        NaN\n",
       "1946-10-01        NaN\n",
       "1947-01-01    243.164\n",
       "1947-04-01    245.968\n",
       "1947-07-01    249.585\n",
       "1947-10-01    259.745\n",
       "1948-01-01    265.742\n",
       "1948-04-01    272.567\n",
       "dtype: float64"
      ]
     },
     "execution_count": 13,
     "metadata": {},
     "output_type": "execute_result"
    }
   ],
   "source": [
    "data2.head(10)"
   ]
  },
  {
   "cell_type": "code",
   "execution_count": 16,
   "id": "b0649134-387d-49f4-89ac-08f4a23ad5a1",
   "metadata": {},
   "outputs": [
    {
     "data": {
      "image/png": "[encoded data removed]",
      "text/plain": [
       "<Figure size 640x480 with 1 Axes>"
      ]
     },
     "metadata": {},
     "output_type": "display_data"
    }
   ],
   "source": [
    "data2.plot();"
   ]
  },
  {
   "cell_type": "code",
   "execution_count": 18,
   "id": "498f206e-bad1-4a97-b650-0152951fb0f7",
   "metadata": {},
   "outputs": [],
   "source": [
    "gdp = fred.get_series('GDP')\n",
    "gdp.name = ('gdp')\n"
   ]
  },
  {
   "cell_type": "code",
   "execution_count": 20,
   "id": "b21a60c6-1368-4b2c-8bf9-b9bc38f68a5d",
   "metadata": {},
   "outputs": [],
   "source": [
    "wcurcir = fred.get_series('WCURCIR')\n",
    "wcurcir.name = 'wcurcir'"
   ]
  },
  {
   "cell_type": "code",
   "execution_count": 23,
   "id": "7f66ee92-d5bb-4bfb-bedc-460e4d44c6e6",
   "metadata": {},
   "outputs": [],
   "source": [
    "md = pd.merge(gdp, wcurcir, left_index = True, right_index = True)"
   ]
  },
  {
   "cell_type": "markdown",
   "id": "8b9c16aa-dbc8-4525-b256-d0735b54aec7",
   "metadata": {},
   "source": [
    "- The merge() method updates the content of two DataFrame by merging them together, using the specified method(s)"
   ]
  },
  {
   "cell_type": "code",
   "execution_count": 24,
   "id": "02ad2f3c-2c11-4c36-b738-aea15954ddec",
   "metadata": {},
   "outputs": [
    {
     "data": {
      "text/html": [
       "<div>\n",
       "<style scoped>\n",
       "    .dataframe tbody tr th:only-of-type {\n",
       "        vertical-align: middle;\n",
       "    }\n",
       "\n",
       "    .dataframe tbody tr th {\n",
       "        vertical-align: top;\n",
       "    }\n",
       "\n",
       "    .dataframe thead th {\n",
       "        text-align: right;\n",
       "    }\n",
       "</style>\n",
       "<table border=\"1\" class=\"dataframe\">\n",
       "  <thead>\n",
       "    <tr style=\"text-align: right;\">\n",
       "      <th></th>\n",
       "      <th>gdp</th>\n",
       "      <th>wcurcir</th>\n",
       "    </tr>\n",
       "  </thead>\n",
       "  <tbody>\n",
       "    <tr>\n",
       "      <th>1986-01-01</th>\n",
       "      <td>4507.894</td>\n",
       "      <td>197.252</td>\n",
       "    </tr>\n",
       "    <tr>\n",
       "      <th>1986-10-01</th>\n",
       "      <td>4657.627</td>\n",
       "      <td>200.310</td>\n",
       "    </tr>\n",
       "    <tr>\n",
       "      <th>1987-04-01</th>\n",
       "      <td>4806.160</td>\n",
       "      <td>207.376</td>\n",
       "    </tr>\n",
       "    <tr>\n",
       "      <th>1987-07-01</th>\n",
       "      <td>4884.555</td>\n",
       "      <td>214.574</td>\n",
       "    </tr>\n",
       "    <tr>\n",
       "      <th>1992-01-01</th>\n",
       "      <td>6363.102</td>\n",
       "      <td>307.620</td>\n",
       "    </tr>\n",
       "    <tr>\n",
       "      <th>1992-04-01</th>\n",
       "      <td>6470.763</td>\n",
       "      <td>302.935</td>\n",
       "    </tr>\n",
       "    <tr>\n",
       "      <th>1992-07-01</th>\n",
       "      <td>6566.641</td>\n",
       "      <td>310.268</td>\n",
       "    </tr>\n",
       "    <tr>\n",
       "      <th>1997-01-01</th>\n",
       "      <td>8362.655</td>\n",
       "      <td>449.867</td>\n",
       "    </tr>\n",
       "    <tr>\n",
       "      <th>1997-10-01</th>\n",
       "      <td>8765.907</td>\n",
       "      <td>457.144</td>\n",
       "    </tr>\n",
       "    <tr>\n",
       "      <th>1998-04-01</th>\n",
       "      <td>8969.699</td>\n",
       "      <td>473.740</td>\n",
       "    </tr>\n",
       "    <tr>\n",
       "      <th>1998-07-01</th>\n",
       "      <td>9121.097</td>\n",
       "      <td>482.139</td>\n",
       "    </tr>\n",
       "    <tr>\n",
       "      <th>2003-01-01</th>\n",
       "      <td>11174.129</td>\n",
       "      <td>686.685</td>\n",
       "    </tr>\n",
       "    <tr>\n",
       "      <th>2003-10-01</th>\n",
       "      <td>11772.234</td>\n",
       "      <td>696.782</td>\n",
       "    </tr>\n",
       "    <tr>\n",
       "      <th>2008-10-01</th>\n",
       "      <td>14608.208</td>\n",
       "      <td>836.296</td>\n",
       "    </tr>\n",
       "    <tr>\n",
       "      <th>2009-04-01</th>\n",
       "      <td>14381.236</td>\n",
       "      <td>902.604</td>\n",
       "    </tr>\n",
       "    <tr>\n",
       "      <th>2009-07-01</th>\n",
       "      <td>14448.882</td>\n",
       "      <td>907.936</td>\n",
       "    </tr>\n",
       "    <tr>\n",
       "      <th>2014-01-01</th>\n",
       "      <td>17144.281</td>\n",
       "      <td>1240.461</td>\n",
       "    </tr>\n",
       "    <tr>\n",
       "      <th>2014-10-01</th>\n",
       "      <td>17852.540</td>\n",
       "      <td>1289.118</td>\n",
       "    </tr>\n",
       "    <tr>\n",
       "      <th>2015-04-01</th>\n",
       "      <td>18193.707</td>\n",
       "      <td>1357.822</td>\n",
       "    </tr>\n",
       "    <tr>\n",
       "      <th>2015-07-01</th>\n",
       "      <td>18306.960</td>\n",
       "      <td>1366.614</td>\n",
       "    </tr>\n",
       "    <tr>\n",
       "      <th>2020-01-01</th>\n",
       "      <td>21538.032</td>\n",
       "      <td>1805.880</td>\n",
       "    </tr>\n",
       "    <tr>\n",
       "      <th>2020-04-01</th>\n",
       "      <td>19636.731</td>\n",
       "      <td>1876.839</td>\n",
       "    </tr>\n",
       "    <tr>\n",
       "      <th>2020-07-01</th>\n",
       "      <td>21362.428</td>\n",
       "      <td>1967.076</td>\n",
       "    </tr>\n",
       "  </tbody>\n",
       "</table>\n",
       "</div>"
      ],
      "text/plain": [
       "                  gdp   wcurcir\n",
       "1986-01-01   4507.894   197.252\n",
       "1986-10-01   4657.627   200.310\n",
       "1987-04-01   4806.160   207.376\n",
       "1987-07-01   4884.555   214.574\n",
       "1992-01-01   6363.102   307.620\n",
       "1992-04-01   6470.763   302.935\n",
       "1992-07-01   6566.641   310.268\n",
       "1997-01-01   8362.655   449.867\n",
       "1997-10-01   8765.907   457.144\n",
       "1998-04-01   8969.699   473.740\n",
       "1998-07-01   9121.097   482.139\n",
       "2003-01-01  11174.129   686.685\n",
       "2003-10-01  11772.234   696.782\n",
       "2008-10-01  14608.208   836.296\n",
       "2009-04-01  14381.236   902.604\n",
       "2009-07-01  14448.882   907.936\n",
       "2014-01-01  17144.281  1240.461\n",
       "2014-10-01  17852.540  1289.118\n",
       "2015-04-01  18193.707  1357.822\n",
       "2015-07-01  18306.960  1366.614\n",
       "2020-01-01  21538.032  1805.880\n",
       "2020-04-01  19636.731  1876.839\n",
       "2020-07-01  21362.428  1967.076"
      ]
     },
     "execution_count": 24,
     "metadata": {},
     "output_type": "execute_result"
    }
   ],
   "source": [
    "md"
   ]
  },
  {
   "cell_type": "code",
   "execution_count": 27,
   "id": "d255bbef-affb-42a0-918c-6f07f6d53537",
   "metadata": {},
   "outputs": [
    {
     "data": {
      "image/png": "[encoded data removed]",
      "text/plain": [
       "<Figure size 640x480 with 1 Axes>"
      ]
     },
     "metadata": {},
     "output_type": "display_data"
    }
   ],
   "source": [
    "md.plot();"
   ]
  },
  {
   "cell_type": "code",
   "execution_count": null,
   "id": "ede3bd76-126c-407f-9b0f-a76f1421c75e",
   "metadata": {},
   "outputs": [],
   "source": []
  }
 ],
 "metadata": {
  "kernelspec": {
   "display_name": "Python 3 (ipykernel)",
   "language": "python",
   "name": "python3"
  },
  "language_info": {
   "codemirror_mode": {
    "name": "ipython",
    "version": 3
   },
   "file_extension": ".py",
   "mimetype": "text/x-python",
   "name": "python",
   "nbconvert_exporter": "python",
   "pygments_lexer": "ipython3",
   "version": "3.9.13"
  }
 },
 "nbformat": 4,
 "nbformat_minor": 5
}
